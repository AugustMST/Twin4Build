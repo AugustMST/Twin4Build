{
 "cells": [
  {
   "cell_type": "markdown",
   "metadata": {},
   "source": [
    "# Basics of twin4build\n",
    "This notebook is an introduction to the basic functionality of the twin4build package. "
   ]
  },
  {
   "cell_type": "code",
   "execution_count": 1,
   "metadata": {},
   "outputs": [
    {
     "name": "stdout",
     "output_type": "stream",
     "text": [
      "+----------------------------------------------------+\n",
      "|           Model overview    id: mymodel            |\n",
      "+--------------------------------------------+-------+\n",
      "| Number of components in simulation model:  |   0   |\n",
      "+--------------------------------------------+-------+\n",
      "|   Number of edges in simulation model:     |   0   |\n",
      "+--------------------------------------------+-------+\n",
      "|   Number of objects in semantic model:     |   0   |\n",
      "+--------------------------------------------+-------+\n",
      "|   Number of triples in semantic model:     |   0   |\n",
      "+--------------------------------------------+-------+\n",
      "|                                            |       |\n",
      "|                                            |       |\n",
      "+--------------------------------------------+-------+\n",
      "|                     id                     | Class |\n",
      "+--------------------------------------------+-------+\n"
     ]
    },
    {
     "name": "stderr",
     "output_type": "stream",
     "text": [
      "C:\\Users\\jabj\\OneDrive - Syddansk Universitet\\PhD_Project_Jakob\\Twin4build\\python\\BuildingEnergyModel\\Twin4Build\\twin4build\\utils\\get_main_dir.py:12: UserWarning: Could not determine main module path, using temp dir: C:\\Users\\jabj\\AppData\\Local\\Temp\\1\n",
      "  warnings.warn(\"Could not determine main module path, using temp dir: %s\" % d)\n"
     ]
    }
   ],
   "source": [
    "import os\n",
    "import sys\n",
    "if __name__ == '__main__':\n",
    "    sys.path.append(r\"C:\\Users\\jabj\\OneDrive - Syddansk Universitet\\PhD_Project_Jakob\\Twin4build\\python\\BuildingEnergyModel\\Twin4Build\")\n",
    "import twin4build as tb\n",
    "\n",
    "model = tb.Model(id=\"mymodel\")\n",
    "print(model)\n"
   ]
  },
  {
   "cell_type": "markdown",
   "metadata": {},
   "source": [
    "Now, we will add components to the instantiated model. \n",
    "First, we instantiate a simple schedule which has no inputs and has the output \"scheduleValue\"."
   ]
  },
  {
   "cell_type": "code",
   "execution_count": 2,
   "metadata": {},
   "outputs": [
    {
     "name": "stdout",
     "output_type": "stream",
     "text": [
      "+---------------------------------------------+\n",
      "| Component overview    id: Position schedule |\n",
      "+-------------+-------------------------------+\n",
      "|    input    |             output            |\n",
      "+-------------+-------------------------------+\n",
      "|             |         scheduleValue         |\n",
      "+-------------+-------------------------------+\n"
     ]
    }
   ],
   "source": [
    "# Define a schedule\n",
    "# Other arguments such as \"mondayRulesetDict\" can also be added to define a more detailed schedule.\n",
    "position_schedule = tb.ScheduleSystem(weekDayRulesetDict = {\n",
    "                                        \"ruleset_default_value\": 0,\n",
    "                                        \"ruleset_start_minute\": [0,0,0,0,0,0,0],\n",
    "                                        \"ruleset_end_minute\": [0,0,0,0,0,0,0],\n",
    "                                        \"ruleset_start_hour\": [6,7,8,12,14,16,18],\n",
    "                                        \"ruleset_end_hour\": [7,8,12,14,16,18,22],\n",
    "                                        \"ruleset_value\": [0,0.1,1,0,0,0.5,0.7]}, #35\n",
    "                                        id=\"Position schedule\")\n",
    "print(position_schedule)"
   ]
  },
  {
   "cell_type": "markdown",
   "metadata": {},
   "source": [
    "Now, we will we instantiate a second schedule which has the input \"damperPosition\" and has the output \"airFlowRate\"."
   ]
  },
  {
   "cell_type": "code",
   "execution_count": 3,
   "metadata": {},
   "outputs": [
    {
     "name": "stdout",
     "output_type": "stream",
     "text": [
      "+----------------------------------+\n",
      "| Component overview    id: Damper |\n",
      "+------------------+---------------+\n",
      "|      input       |     output    |\n",
      "+------------------+---------------+\n",
      "|  damperPosition  |  airFlowRate  |\n",
      "+------------------+---------------+\n"
     ]
    }
   ],
   "source": [
    "# Define damper component\n",
    "damper = tb.DamperSystem(nominalAirFlowRate = tb.PropertyValue(hasValue=1.6),\n",
    "                        a=5,\n",
    "                        id=\"Damper\")\n",
    "print(damper)"
   ]
  },
  {
   "cell_type": "markdown",
   "metadata": {},
   "source": [
    "Connect the \"scheduleValue\" output of the schedule to the \"damperPosition\" input of the damper.\n",
    "Print the model once again to see the changes."
   ]
  },
  {
   "cell_type": "code",
   "execution_count": 4,
   "metadata": {},
   "outputs": [
    {
     "name": "stdout",
     "output_type": "stream",
     "text": [
      "+-------------------------------------------------------------+\n",
      "|                Model overview    id: mymodel                |\n",
      "+--------------------------------------------+----------------+\n",
      "| Number of components in simulation model:  |       2        |\n",
      "+--------------------------------------------+----------------+\n",
      "|   Number of edges in simulation model:     |       1        |\n",
      "+--------------------------------------------+----------------+\n",
      "|   Number of objects in semantic model:     |       2        |\n",
      "+--------------------------------------------+----------------+\n",
      "|   Number of triples in semantic model:     |       0        |\n",
      "+--------------------------------------------+----------------+\n",
      "|                                            |                |\n",
      "|                                            |                |\n",
      "+--------------------------------------------+----------------+\n",
      "|                     id                     |     Class      |\n",
      "+--------------------------------------------+----------------+\n",
      "|                   Damper                   |  DamperSystem  |\n",
      "+--------------------------------------------+----------------+\n",
      "|             Position schedule              | ScheduleSystem |\n",
      "+--------------------------------------------+----------------+\n"
     ]
    }
   ],
   "source": [
    "model.add_connection(position_schedule, damper, \"scheduleValue\", \"damperPosition\")\n",
    "print(model)"
   ]
  },
  {
   "cell_type": "code",
   "execution_count": 5,
   "metadata": {},
   "outputs": [
    {
     "name": "stdout",
     "output_type": "stream",
     "text": [
      "\n",
      "Loading model...\n",
      "   |___Drawing parsed object graph...done\n",
      "   |___Drawing system graph...done\n",
      "   |___Validating model...done\n",
      "   |___Determining execution order...done\n",
      "   |___Creating execution graph...done\n",
      "   |___Drawing system graph without cycles...done\n",
      "   |___Loading parameters...\n",
      "+-------------------------------------------------------------+\n",
      "|                Model overview    id: mymodel                |\n",
      "+--------------------------------------------+----------------+\n",
      "| Number of components in simulation model:  |       2        |\n",
      "+--------------------------------------------+----------------+\n",
      "|   Number of edges in simulation model:     |       1        |\n",
      "+--------------------------------------------+----------------+\n",
      "|   Number of objects in semantic model:     |       2        |\n",
      "+--------------------------------------------+----------------+\n",
      "|   Number of triples in semantic model:     |       0        |\n",
      "+--------------------------------------------+----------------+\n",
      "|                                            |                |\n",
      "|                                            |                |\n",
      "+--------------------------------------------+----------------+\n",
      "|                     id                     |     Class      |\n",
      "+--------------------------------------------+----------------+\n",
      "|                   Damper                   |  DamperSystem  |\n",
      "+--------------------------------------------+----------------+\n",
      "|             Position schedule              | ScheduleSystem |\n",
      "+--------------------------------------------+----------------+\n"
     ]
    },
    {
     "data": {
      "image/png": "[encoded data removed]",
      "text/plain": [
       "<Figure size 640x480 with 1 Axes>"
      ]
     },
     "metadata": {},
     "output_type": "display_data"
    }
   ],
   "source": [
    "model.load()\n",
    "import matplotlib.pyplot as plt\n",
    "system_graph = os.path.join(model.graph_path, \"system_graph.png\")\n",
    "image = plt.imread(system_graph)\n",
    "plt.figure()\n",
    "plt.imshow(image)\n",
    "plt.axis('off')\n",
    "plt.show()"
   ]
  },
  {
   "cell_type": "code",
   "execution_count": 14,
   "metadata": {},
   "outputs": [
    {
     "name": "stderr",
     "output_type": "stream",
     "text": [
      "100%|██████████| 288/288 [00:00<00:00, 27688.98it/s]\n"
     ]
    }
   ],
   "source": [
    "import datetime\n",
    "from dateutil import tz\n",
    "simulator = tb.Simulator()\n",
    "stepSize = 600 #Seconds\n",
    "startTime = datetime.datetime(year=2021, month=1, day=10, hour=0, minute=0, second=0, tzinfo=tz.gettz(\"Europe/Copenhagen\"))\n",
    "endTime = datetime.datetime(year=2021, month=1, day=12, hour=0, minute=0, second=0, tzinfo=tz.gettz(\"Europe/Copenhagen\"))\n",
    "\n",
    "# Simulate the model\n",
    "simulator.simulate(model,\n",
    "                    stepSize=stepSize,\n",
    "                    startTime = startTime,\n",
    "                    endTime = endTime)"
   ]
  }
 ],
 "metadata": {
  "kernelspec": {
   "display_name": "py-3-10",
   "language": "python",
   "name": "python3"
  },
  "language_info": {
   "codemirror_mode": {
    "name": "ipython",
    "version": 3
   },
   "file_extension": ".py",
   "mimetype": "text/x-python",
   "name": "python",
   "nbconvert_exporter": "python",
   "pygments_lexer": "ipython3",
   "version": "3.10.12"
  }
 },
 "nbformat": 4,
 "nbformat_minor": 2
}
