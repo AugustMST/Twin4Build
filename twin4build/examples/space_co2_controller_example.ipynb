{
 "cells": [
  {
   "cell_type": "markdown",
   "metadata": {},
   "source": [
    "# Twin4Build: CO2 Controller Example\n",
    "\n",
    "This notebook demonstrates how to use the Twin4Build package to create and simulate a CO2 controller model for a building space. We'll go through the process step-by-step, explaining each part along the way."
   ]
  },
  {
   "cell_type": "markdown",
   "metadata": {},
   "source": [
    "## 1. Import Required Libraries\n",
    "\n",
    "First, we import the necessary libraries and modules."
   ]
  },
  {
   "cell_type": "code",
   "execution_count": null,
   "metadata": {},
   "outputs": [],
   "source": [
    "%pip install git+https://github.com/JBjoernskov/Twin4Build.git\n",
    "import twin4build as tb\n",
    "import datetime\n",
    "from dateutil import tz\n",
    "import twin4build.utils.plot.plot as plot\n",
    "import matplotlib.pyplot as plt\n",
    "import os"
   ]
  },
  {
   "cell_type": "markdown",
   "metadata": {},
   "source": [
    "## 2. Define Model Components and Connections\n",
    "\n",
    "Now we define the components of our CO2 controller model and their connections.\n",
    "For convenience, we can pack all these definitions into the \"fcn\" function, which will be used to create the model."
   ]
  },
  {
   "cell_type": "code",
   "execution_count": null,
   "metadata": {},
   "outputs": [],
   "source": [
    "def fcn(self):\n",
    "    ##############################################################\n",
    "    ################## First, define components ##################\n",
    "    ##############################################################\n",
    "    occupancy_schedule = tb.ScheduleSystem(\n",
    "        weekDayRulesetDict={\n",
    "            \"ruleset_default_value\": 0,\n",
    "            \"ruleset_start_minute\": [0, 0, 0, 0, 0, 0, 0],\n",
    "            \"ruleset_end_minute\": [0, 0, 0, 0, 0, 0, 0],\n",
    "            \"ruleset_start_hour\": [6, 7, 8, 12, 14, 16, 18],\n",
    "            \"ruleset_end_hour\": [7, 8, 12, 14, 16, 18, 22],\n",
    "            \"ruleset_value\": [3, 5, 20, 25, 27, 7, 3]},\n",
    "        add_noise=True,\n",
    "        saveSimulationResult=True,\n",
    "        id=\"Occupancy schedule\")\n",
    "    \n",
    "    co2_setpoint_schedule = tb.ScheduleSystem(\n",
    "        weekDayRulesetDict={\n",
    "            \"ruleset_default_value\": 900,\n",
    "            \"ruleset_start_minute\": [],\n",
    "            \"ruleset_end_minute\": [],\n",
    "            \"ruleset_start_hour\": [],\n",
    "            \"ruleset_end_hour\": [],\n",
    "            \"ruleset_value\": []},\n",
    "        saveSimulationResult=True,\n",
    "        id=\"CO2 setpoint schedule\")\n",
    "\n",
    "    co2_property = tb.Co2()\n",
    "    co2_controller = tb.PIDControllerSystem(\n",
    "        observes=co2_property,\n",
    "        K_p=-0.001,\n",
    "        K_i=-0.001,\n",
    "        K_d=0,\n",
    "        saveSimulationResult=True,\n",
    "        id=\"CO2 controller\")\n",
    "\n",
    "    supply_damper = tb.DamperSystem(\n",
    "        nominalAirFlowRate=tb.PropertyValue(hasValue=1.6),\n",
    "        a=5,\n",
    "        saveSimulationResult=True,\n",
    "        id=\"Supply damper\")\n",
    "\n",
    "    return_damper = tb.DamperSystem(\n",
    "        nominalAirFlowRate=tb.PropertyValue(hasValue=1.6),\n",
    "        a=5,\n",
    "        saveSimulationResult=True,\n",
    "        id=\"Return damper\")\n",
    "\n",
    "    space = tb.BuildingSpaceCo2System(\n",
    "        airVolume=466.54,\n",
    "        outdoorCo2Concentration=500,\n",
    "        infiltration=0.005,\n",
    "        generationCo2Concentration=0.0042*1000*1.225,\n",
    "        saveSimulationResult=True,\n",
    "        id=\"Space\")\n",
    "    co2_property.isPropertyOf = space\n",
    "\n",
    "    #################################################################\n",
    "    ################## Add connections to the model #################\n",
    "    #################################################################\n",
    "    self.add_connection(co2_controller, supply_damper,\n",
    "                         \"inputSignal\", \"damperPosition\")\n",
    "    self.add_connection(co2_controller, return_damper,\n",
    "                         \"inputSignal\", \"damperPosition\")\n",
    "    self.add_connection(supply_damper, space,\n",
    "                         \"airFlowRate\", \"supplyAirFlowRate\")\n",
    "    self.add_connection(return_damper, space,\n",
    "                         \"airFlowRate\", \"returnAirFlowRate\")\n",
    "    self.add_connection(occupancy_schedule, space,\n",
    "                         \"scheduleValue\", \"numberOfPeople\")\n",
    "    self.add_connection(space, co2_controller,\n",
    "                         \"indoorCo2Concentration\", \"actualValue\")\n",
    "    self.add_connection(co2_setpoint_schedule, co2_controller,\n",
    "                         \"scheduleValue\", \"setpointValue\")"
   ]
  },
  {
   "cell_type": "markdown",
   "metadata": {},
   "source": [
    "## 3. Create and Load the Model\n",
    "\n",
    "Now we create a model instance and load it with the components and connections we defined."
   ]
  },
  {
   "cell_type": "code",
   "execution_count": null,
   "metadata": {},
   "outputs": [],
   "source": [
    "model = tb.Model(id=\"co2_control\")\n",
    "model.load(fcn=fcn)\n",
    "system_graph = os.path.join(model.graph_path, \"system_graph.png\")\n",
    "image = plt.imread(system_graph)\n",
    "plt.figure()\n",
    "plt.imshow(image)\n",
    "plt.axis('off')\n",
    "plt.show()"
   ]
  },
  {
   "cell_type": "markdown",
   "metadata": {},
   "source": [
    "## 4. Set Up Simulation Parameters and Run Simulation\n",
    "\n",
    "We set up the simulation parameters and run the simulation for our CO2 controller model."
   ]
  },
  {
   "cell_type": "code",
   "execution_count": null,
   "metadata": {},
   "outputs": [],
   "source": [
    "simulator = tb.Simulator()\n",
    "stepSize = 600 #Seconds\n",
    "startTime = datetime.datetime(year=2024, month=1, day=10, hour=0, minute=0, second=0, tzinfo=tz.gettz(\"Europe/Copenhagen\"))\n",
    "endTime = datetime.datetime(year=2024, month=1, day=12, hour=0, minute=0, second=0, tzinfo=tz.gettz(\"Europe/Copenhagen\"))\n",
    "\n",
    "# Simulate the model\n",
    "simulator.simulate(model,\n",
    "                    stepSize=stepSize,\n",
    "                    startTime = startTime,\n",
    "                    endTime = endTime)"
   ]
  },
  {
   "cell_type": "markdown",
   "metadata": {},
   "source": [
    "## 5. Visualize Results\n",
    "\n",
    "We use the built-in plotting functions to visualize the simulation results."
   ]
  },
  {
   "cell_type": "code",
   "execution_count": null,
   "metadata": {},
   "outputs": [],
   "source": [
    "plot.plot_damper(model, simulator, \"Supply damper\", show=True)"
   ]
  },
  {
   "cell_type": "code",
   "execution_count": null,
   "metadata": {},
   "outputs": [],
   "source": [
    "plot.plot_CO2_controller(model, simulator, \"CO2 controller\", show=True)"
   ]
  },
  {
   "cell_type": "code",
   "execution_count": null,
   "metadata": {},
   "outputs": [],
   "source": [
    "plot.plot_space_CO2(model, simulator, \"Space\", show=True)"
   ]
  },
  {
   "cell_type": "markdown",
   "metadata": {},
   "source": [
    "## 6. Interpreting the Results\n",
    "\n",
    "The plots show:\n",
    "\n",
    "1. Supply Damper Position: This graph illustrates how the damper position changes over time in response to CO2 levels.\n",
    "\n",
    "2. CO2 Controller: This plot shows the actual CO2 concentration (blue line) compared to the setpoint (orange line), and the controller output (green line).\n",
    "\n",
    "These visualizations help us understand how the CO2 controller is managing the indoor air quality based on occupancy and setpoints.\n",
    "\n",
    "## 7. Next Steps\n",
    "\n",
    "To further explore this model, you could:\n",
    "- Adjust the PID controller parameters to see how they affect the system response\n",
    "- Modify the occupancy schedule to simulate different usage patterns\n",
    "- Change the CO2 setpoint to observe its impact on ventilation behavior\n",
    "\n",
    "This example demonstrates the power of Twin4Build for modeling and simulating building control systems."
   ]
  }
 ],
 "metadata": {
  "kernelspec": {
   "display_name": "Python 3",
   "language": "python",
   "name": "python3"
  },
  "language_info": {
   "codemirror_mode": {
    "name": "ipython",
    "version": 3
   },
   "file_extension": ".py",
   "mimetype": "text/x-python",
   "name": "python",
   "nbconvert_exporter": "python",
   "pygments_lexer": "ipython3",
   "version": "3.8.10"
  }
 },
 "nbformat": 4,
 "nbformat_minor": 4
}
